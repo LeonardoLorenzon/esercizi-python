{
  "cells": [
    {
      "cell_type": "markdown",
      "metadata": {
        "id": "q4KH5Ja2qLt1"
      },
      "source": [
        "# Python from Scratch - Esercizi\n",
        "\n",
        "*Chinellato Diego - TPSIT*\n",
        "\n",
        "*ITTS V. Volterra*\n",
        "\n",
        "*A.S. 2022/2023*"
      ]
    },
    {
      "cell_type": "markdown",
      "metadata": {
        "id": "W2tPFm9Qf5oB"
      },
      "source": [
        "Ogni esercizio è accompagnato da una serie di `assert` che verificano se la funzione è corretta. In poche parole, `assert` è un operatore Python (ma è presente in molti linguaggi) che lancia un'eccezione se una certa condizione non viene rispettata:"
      ]
    },
    {
      "cell_type": "code",
      "execution_count": null,
      "metadata": {},
      "outputs": [
        {
          "ename": "Error",
          "evalue": "Jupyter cannot be started. Error attempting to locate jupyter: ",
          "output_type": "error",
          "traceback": [
            "Error: Jupyter cannot be started. Error attempting to locate jupyter:",
            "at A.startServer (c:\\Users\\Studente\\.vscode\\extensions\\ms-python.python-2020.2.64397\\out\\client\\extension.js:1:786120)",
            "at async A.ensureServerAndNotebookImpl (c:\\Users\\Studente\\.vscode\\extensions\\ms-python.python-2020.2.64397\\out\\client\\extension.js:1:785575)",
            "at async A.ensureServerAndNotebook (c:\\Users\\Studente\\.vscode\\extensions\\ms-python.python-2020.2.64397\\out\\client\\extension.js:1:785376)",
            "at async A.submitCode (c:\\Users\\Studente\\.vscode\\extensions\\ms-python.python-2020.2.64397\\out\\client\\extension.js:1:782328)",
            "at async A.reexecuteCell (c:\\Users\\Studente\\.vscode\\extensions\\ms-python.python-2020.2.64397\\out\\client\\extension.js:75:879318)"
          ]
        }
      ],
      "source": [
        "assert 1 == 1, 'primo assert passato'\nassert 1 == 2, 'secondo assert fallito'"
      ]
    },
    {
      "cell_type": "markdown",
      "metadata": {
        "id": "Mq5gngc7juaz"
      },
      "source": [
        "La sintassi è `assert check msg`, dove `check` è l'espressione booleana da valutare e `msg` è il messaggio che viene printato se il check fallisce. Sono estremamente utili, sopratutto per debuggare e testare il codice. Per approffondire: https://realpython.com/python-assert-statement/"
      ]
    },
    {
      "cell_type": "markdown",
      "metadata": {
        "id": "KizLECz3qLuR"
      },
      "source": [
        "## Esercizio 1: find and replace\n",
        "\n",
        "Find-and-replace è una feature molto comune in text editors, IDEs e software di word processing. In questo esercizio, dovrai implementare questa comune funzione.\n",
        "\n",
        "Definisci una funzione `find_and_replace(text, old_text, new_text)` che sostituisce tutte le occorrenze di `old_text` in `text` con `new_text`. La funzione deve essere case sensitive (vedi esempi nella cella con assert)."
      ]
    },
    {
      "cell_type": "code",
      "execution_count": null,
      "metadata": {},
      "outputs": [
        {
          "ename": "Error",
          "evalue": "",
          "output_type": "error",
          "traceback": [
            "Error:",
            "at E.start (c:\\Users\\Studente\\.vscode\\extensions\\ms-python.python-2020.2.64397\\out\\client\\extension.js:1:825422)"
          ]
        }
      ],
      "source": [
        "def find_and_replace(text, old_text, new_text):\n",
        "  lungh=len(text)\n",
        "  ris=''\n",
        "  i=0\n",
        "  while i<lungh:\n",
        "    if text[i:i+len(old_text)]==old_text: \n",
        "      ris+=new_text\n",
        "      i+=len(old_text)\n",
        "    else:\n",
        "      ris+=text[i]\n",
        "      i+=1\n",
        "  print(ris)\n",
        "  return ris"
      ]
    },
    {
      "cell_type": "code",
      "execution_count": null,
      "metadata": {},
      "outputs": [],
      "source": [
        "find_and_replace('The fox', 'fox', 'dog')\n",
        "find_and_replace('fox', 'fox', 'dog')\n",
        "find_and_replace('Firefox', 'fox', 'dog') \n",
        "find_and_replace('foxfox', 'fox', 'dog')\n",
        "find_and_replace('The Fox and fox.', 'fox', 'dog')\n",
        "find_and_replace('THE FOX AND THE DOG', 'fox', 'dog')"
      ]
    },
    {
      "cell_type": "code",
      "execution_count": null,
      "metadata": {
        "colab": {
          "base_uri": "https://localhost:8080/"
        },
        "id": "s4YnBPK8qLuR",
        "outputId": "1240cc22-ab97-42b9-a76d-3175578a12c7"
      },
      "outputs": [],
      "source": [
        "assert find_and_replace('The fox', 'fox', 'dog') == 'The dog'\n",
        "assert find_and_replace('fox', 'fox', 'dog') == 'dog'\n",
        "assert find_and_replace('Firefox', 'fox', 'dog') == 'Firedog'\n",
        "assert find_and_replace('foxfox', 'fox', 'dog') == 'dogdog'\n",
        "assert find_and_replace('The Fox and fox.', 'fox', 'dog') == 'The Fox and dog.'\n",
        "assert find_and_replace('THE FOX AND THE DOG' 'fox', 'dog') == 'THE FOX AND THE DOG'"
      ]
    },
    {
      "cell_type": "markdown",
      "metadata": {
        "id": "veZRTaASf2rZ"
      },
      "source": [
        "## Esercizio 2: ore, minuti, secondi\n",
        "Definisci una funzione `get_hours_minutes_seconds(seconds)` che converte il numero di secondi passato come parametro nel numero di ore, minuti e secondi.\n",
        "Ad esempio, `get_hours_minutes_seconds(90)` deve ritornare '1m 30s'\n",
        "Per una sfida in più, considera anche il periodo di 24 ore e aggiungi il suffisso \"d\"; ad esempio, `get_hours_minutes_seconds(90042)` ritorna '1d 1h 42s'."
      ]
    },
    {
      "cell_type": "code",
      "execution_count": null,
      "metadata": {
        "id": "taOZevsskr_0"
      },
      "outputs": [],
      "source": [
        "def get_hours_minutes_seconds(seconds):\n",
        "  if seconds >=60:\n",
        "    if seconds >= 86400:\n",
        "      giorni=int(seconds/86400)\n",
        "      seconds = seconds -(giorni*86400)\n",
        "      print(giorni,\"d \",end=\"\",sep=\"\"),\n",
        "    if seconds >=3600:\n",
        "      ore=int(seconds/3600)\n",
        "      seconds = seconds -(ore*3600)\n",
        "      print(ore,\"h \",end=\"\",sep=\"\"),\n",
        "    if seconds >= 60:\n",
        "      minuti=int(seconds/60)\n",
        "      seconds = seconds -(minuti*60)\n",
        "      print(minuti,\"m \",end=\"\",sep=\"\"),\n",
        "    if seconds >0:  \n",
        "      print(seconds,\"s \",sep=\"\"),\n",
        "  else:\n",
        "    print(seconds,\"s\",sep=\"\")\n",
        "  pass"
      ]
    },
    {
      "cell_type": "code",
      "execution_count": null,
      "metadata": {},
      "outputs": [],
      "source": [
        "get_hours_minutes_seconds(30)\n",
        "get_hours_minutes_seconds(60)\n",
        "get_hours_minutes_seconds(90)\n",
        "get_hours_minutes_seconds(3600)\n",
        "get_hours_minutes_seconds(3601)\n",
        "get_hours_minutes_seconds(3661)\n",
        "get_hours_minutes_seconds(90042)\n",
        "get_hours_minutes_seconds(0)"
      ]
    },
    {
      "cell_type": "code",
      "execution_count": null,
      "metadata": {
        "id": "DX3TsjlbksgK"
      },
      "outputs": [],
      "source": [
        "assert get_hours_minutes_seconds(30) == '30s'\n",
        "assert get_hours_minutes_seconds(60) == '1m'\n",
        "assert get_hours_minutes_seconds(90) == '1m 30s'\n",
        "assert get_hours_minutes_seconds(3600) == '1h'\n",
        "assert get_hours_minutes_seconds(3601) == '1h 1s'\n",
        "assert get_hours_minutes_seconds(3661) == '1h 1m 1s'\n",
        "assert get_hours_minutes_seconds(90042) == '25h 42s'\n",
        "assert get_hours_minutes_seconds(0) == '0s'"
      ]
    },
    {
      "cell_type": "markdown",
      "metadata": {
        "id": "nmN8-W4mpWGh"
      },
      "source": [
        "## Esercizio 3: massimi e minimi, somme e prodotti, medie e mediane \n",
        "Scrivere le seguenti funzioni che \"riducono\" un iterabile (lista, tupla, set, ...) a un singolo valore:\n",
        "* `maximum(t)` e `minimum(t)` che ritornano rispettivamente il valore massimo e minimo presente in `t`\n",
        "* `somma(t)` e `prod(t)` che ritornano rispettivamente la somma e il prodotto di tutti gli elementi di `t`\n",
        "* `moda(t)` che ritorna l'elemento più frequente di `t`\n",
        "* `avg(t)` e `median(t)` che ritornano rispettivamente la media e la mediana di `t`. \n",
        "  * Assumendo che `t` contenga `n` elementi, la media è definita come: $\\frac{1}{n}∑_{x \\in t}x$. \n",
        "  * La mediana è invece definita come l'elemento centrale di t, dopo che t è stato ordinato in ordine crescente. Se n è dispari, l'elemento centrale è l'elemento in posizione $\\frac{n+1}{2}$, mentre se n è pari l'elemento centrale è la media dei due elementi nelle posizioni $\\frac{n}{2}, \\frac{n}{2} + 1$ ($\\frac{t[\\frac{n}{2}] + t[\\frac{n}{2} + 1]}{2}$)."
      ]
    },
    {
      "cell_type": "code",
      "execution_count": null,
      "metadata": {
        "id": "jSWg4OXPseaK"
      },
      "outputs": [],
      "source": [
        "def maximum(t):\n",
        "  max = t[0]\n",
        "  for i in range (len(t)):\n",
        "    if t[i]>max:\n",
        "      max=t[i]\n",
        "  print(\"massimo:\",max)  \n",
        "  return max\n",
        "\n",
        "def minimum(t):\n",
        "  min = t[0]\n",
        "  for i in range (len(t)):\n",
        "    if t[i]<min:\n",
        "      min=t[i]\n",
        "  print(\"minimo:\",min)\n",
        "  return min\n",
        "\n",
        "def somma(t):\n",
        "  sum=0\n",
        "  for i in range(len(t)):\n",
        "    sum = sum+t[i]\n",
        "  print(\"somma:\",sum)\n",
        "  \n",
        "def prod(t):\n",
        "  prod = 1\n",
        "  for i in range(len(t)):\n",
        "    prod = prod*t[i]\n",
        "  print(\"prodotto:\",prod)\n",
        "  return somma\n",
        "\n",
        "  def moda(t):\n",
        "    contmax=0\n",
        "    moda=0\n",
        "    for i in range(len(t)):\n",
        "      cont = 0\n",
        "      for j in range(len(t)):\n",
        "        if t[i]==t[j]:    \n",
        "          cont+=1\n",
        "          \n",
        "      if i==0:\n",
        "        contmax=cont\n",
        "        moda=t[i]\n",
        "      else:\n",
        "        if cont>contmax:\n",
        "          contmax=cont\n",
        "          moda=t[i]\n",
        "    print(\"moda:\",moda)\n",
        "    return moda\n",
        "\n",
        "def avg(t):\n",
        "  somma = sum(t)\n",
        "  media = somma/len(t)\n",
        "  print(\"la media è:\",media)\n",
        "  return media\n",
        "\n",
        "def median(t):\n",
        "  t.sort()\n",
        "  mediana = 0\n",
        "  if (len(t)%2)!=0:\n",
        "    mediana=t[int((len(t)-1)/2)]\n",
        "  else:\n",
        "    mediana=(t[int(len(t)/2)]+t[int(len(t)/2)])/2\n",
        "  print (\"mediana:\",mediana)\n",
        "  return mediana"
      ]
    },
    {
      "cell_type": "code",
      "execution_count": null,
      "metadata": {
        "id": "Uc8YEPOnsfdg"
      },
      "outputs": [],
      "source": [
        "t = [1, 2, 3, 4, 5, 7]\n",
        "assert maximum(t) == 5\n",
        "assert minimum(t) == 1\n",
        "assert somma(t) == 15\n",
        "assert prod(t) == 120\n",
        "assert round(avg(t), 2) == 3.67\n",
        "assert median(t) == 3.5\n",
        "\n",
        "assert moda([1, 2, 3, 1, 2, 1, 1, 1, 2]) == 1\n",
        "assert moda([1, 2, 3, 3, 3, 1, 2, 1, 2, 3, 3, 3]) == 3\n",
        "\n",
        "# mescolare t non deve cambiare la mediana\n",
        "import random\n",
        "random.seed(42)\n",
        "t = [3, 7, 10, 4, 1, 9, 6, 2, 8]\n",
        "for _ in range(5):\n",
        "  random.shuffle(t)\n",
        "  assert median(t) == 6"
      ]
    },
    {
      "cell_type": "markdown",
      "metadata": {
        "id": "l20W01nvuIWx"
      },
      "source": [
        "## Esercizio 4: generatore di password\n",
        "Definisci una funzione `gen_pwd(length)` che genera una password casuale di lunghezza `length`. Per sicurezza, la password deve sempre essere di almeno 8 caratteri (anche nei casi in cui `length \n",
        "\n",
        "\n",
        "\n",
        "\n",
        "\n",
        "\n",
        "\n",
        "\n",
        "\n",
        "\n",
        "\n",
        "\n",
        "\n",
        "\n",
        "\n",
        "\n",
        " 8`). La password ritornata (stringa) deve contenere almeno una lettera minuscola, una maiuscola, un numero e un carattere speciale. I caratteri speciali sono i seguenti: ~!@#$%^&*()_+.\n",
        "La soluzione dovrebbe importare il modulo `random` per generare queste password in maniera casuale. "
      ]
    },
    {
      "cell_type": "code",
      "execution_count": null,
      "metadata": {},
      "outputs": [],
      "source": [
        "from random import *\n",
        "import string\n",
        "import random\n",
        "def gen_pwd(length):\n",
        "    if length<8:\n",
        "        length=8\n",
        "    passw=[None]*length \n",
        "    passw[0]=random.choice(string.ascii_uppercase)\n",
        "    passw[1]=random.choice([\"~\",\"!\",\"@\",\"#\",\"$\",\"%\",\"^\",\"&\",\"*\",\"(\",\")\",\"+\",\".\"])\n",
        "    passw[2]=randint(0,10)\n",
        "    for i in range (3, length):\n",
        "        passw[i]=random.choice(string.ascii_lowercase)\n",
        "    random.shuffle(passw)\n",
        "    password = ''.join(map(str, passw))\n",
        "    print(password)\n"
      ]
    },
    {
      "cell_type": "code",
      "execution_count": null,
      "metadata": {
        "id": "fuBNhAuq7aM1"
      },
      "outputs": [],
      "source": [
        "assert  len(gen_pwd(7))== 8 \n",
        "assert len(gen_pwd(8)) == 8 \n",
        "from string import ascii_uppercase, ascii_lowercase, digits\n",
        "special = '~!@#$%^&*()_+.'\n",
        "pwd = gen_pwd(8)\n",
        "assert any(c in pwd for c in ascii_uppercase), 'uppercase letter missing'\n",
        "assert any(c in pwd for c in ascii_lowercase), 'lowercase letter missing'\n",
        "assert any(d in pwd for d in digits), 'digit missing'\n",
        "assert any(s in pwd for s in special), 'special char missing'"
      ]
    },
    {
      "cell_type": "markdown",
      "metadata": {
        "id": "Ek2SNDO6HLlP"
      },
      "source": [
        "## Esercizio 5: Bubble Sort\n",
        "Il Bubble Sort è un algoritmo di ordinamento, spesso il primo insegnato agli studenti di informatica. Anche se inefficiente e inadatto al software del mondo reale, è un algoritmo molto semplice da capire e implementare. L'idea è iterare ripetutamente il vettore da ordinare, considerando coppie consecutive di elementi; se la coppia non è in ordine (cioè, in posizione $i-1$ c'è un elemento più grande di quello in posizione $i$), i due elementi vengono scambiati. L'algoritmo termina quanto itero il vettore dall'inizio alla fine senza effettuare alcuno swap. Su Wikipedia (https://en.wikipedia.org/wiki/Bubble_sort) trovate una spiegazione più dettagliata e un esempio visivo, oltre al pseudocodice.\n",
        "\n",
        "Definisci una funzione `bubble_sort(numbers)` che ordina in-place (senza creare una nuova variabile) la lista `numbers` tramite bubble sort e ritorna la lista ordinata. \n",
        "\n",
        "\n"
      ]
    },
    {
      "cell_type": "code",
      "execution_count": null,
      "metadata": {
        "id": "FFjq5dNgHMLP"
      },
      "outputs": [],
      "source": [
        "def bubble_sort(numbers):\n",
        "  for i in range (0, len(numbers)-1):\n",
        "    for j in range (0, len(numbers)-1):\n",
        "      if numbers[j]>numbers[j+1]:\n",
        "        numbers[j], numbers[j+1] = numbers[j+1], numbers[j]\n",
        "        flag=True\n",
        "        j-=1\n",
        "  for i in range (0, len(numbers)):\n",
        "    print (numbers[i])\n"
      ]
    },
    {
      "cell_type": "code",
      "execution_count": null,
      "metadata": {
        "id": "n8oGTsv6IIEH"
      },
      "outputs": [],
      "source": [
        "assert bubble_sort([2, 0, 4, 1, 3]) == [0, 1, 2, 3, 4]\n",
        "assert bubble_sort([2, 2, 2, 2]) == [2, 2, 2, 2]"
      ]
    },
    {
      "cell_type": "markdown",
      "metadata": {
        "id": "LVTlxByZP8fB"
      },
      "source": [
        "## Esercizio 6: strette di mano\n",
        "Definisci una funzione `print_handshakes(people)` che, data una lista di nomi di persone `people` printa \"X shakes hands with Y\", where X e Y sono tutte le possibili combinazioni di strette di mano tra persone nella lista. Non devono esserci duplicati - se A stringe la mano a B, B non deve stringerla ad A. Ad esempio, `print_handshakes(['Alice', 'Bob', 'Carol', 'David'])` dovrebbe printare:\n",
        "\n",
        "Alice shakes hands with Bob\n",
        "Alice shakes hands with Carol\n",
        "Alice shakes hands with David\n",
        "Bob shakes hands with Carol\n",
        "Bob shakes hands with David\n",
        "Carol shakes hands with David\n",
        "\n",
        "La funzione deve anche ritornare un intero che rappresenta il numero totale di strette di mano."
      ]
    },
    {
      "cell_type": "code",
      "execution_count": null,
      "metadata": {
        "id": "Evxe0gVmQDjK"
      },
      "outputs": [],
      "source": [
        "def print_handshakes(people):\n",
        "  sommatoria=[None]*(len(people)-1)\n",
        "  j=1\n",
        "  for i in range (0,len(people)-1):\n",
        "    sommatoria[i]=j\n",
        "    j+=1\n",
        "  numerostrette=sum(sommatoria)\n",
        "  print(numerostrette)\n",
        "  for i in range (0,len(people)):\n",
        "    for j in range (i+1,len(people)):\n",
        "      print(people[i], \"shakes hands with\", people[j], end=\". \")\n",
        "  return numerostrette"
      ]
    },
    {
      "cell_type": "code",
      "execution_count": null,
      "metadata": {
        "id": "AkBViajXP76Y"
      },
      "outputs": [],
      "source": [
        "assert print_handshakes(['Alice', 'Bob']) == 1\n",
        "assert print_handshakes(['Alice', 'Bob', 'Carol']) == 3\n",
        "assert print_handshakes(['Alice', 'Bob', 'Carol', 'David']) == 6"
      ]
    },
    {
      "cell_type": "markdown",
      "metadata": {
        "id": "lN9tHYCwVBYC"
      },
      "source": [
        "## Esercizio 7: random shuffle\n",
        "Definisci una funzione `shuffle(values)` che mescola la lista `values`, ovvero modifica in maniera randomica la posizione di ogni elemento della lista. La funzione non deve ritornare la lista ordinata. La lista mescolata deve contenere gli stessi elementi, ma in un ordine diverso (random).\n",
        "Nota: l'esercizio chiede di implementare una funzione identical al `random.shuffle()` nativamente incluso in Python. Chiaramente, evita di usare questa funzione dato che renderebbe l'esercizio inutile."
      ]
    },
    {
      "cell_type": "code",
      "execution_count": null,
      "metadata": {
        "id": "ZWY4SZFpVB7h"
      },
      "outputs": [],
      "source": [
        "def shuffle(values):\n",
        "  supporto=[None]*len(values)\n",
        "  num=randint(0,len(values)-1)\n",
        "  for i in range (len(values)):\n",
        "    while supporto[num]!=None:\n",
        "      num=randint(0,len(values)-1)\n",
        "    supporto[num]=values[i]\n",
        "  for i in range (len(values)-1):\n",
        "    print(supporto[i])\n",
        "  return supporto"
      ]
    },
    {
      "cell_type": "code",
      "execution_count": null,
      "metadata": {
        "id": "ivenskRyVENk"
      },
      "outputs": [],
      "source": [
        "random.seed(42)\n",
        "# Perform this test ten times:\n",
        "for i in range(10):\n",
        "    testData1 = [1, 2, 3, 4, 5, 6, 7, 8, 9, 10]\n",
        "shuffle(testData1)\n",
        "# Make sure the number of values hasn't changed:\n",
        "assert len(testData1) == 10\n",
        "# Make sure the order has changed:\n",
        "assert testData1 != [1, 2, 3, 4, 5, 6, 7, 8, 9, 10]\n",
        "# Make sure that when re-sorted, all the original values are there:\n",
        "assert sorted(testData1) == [1, 2, 3, 4, 5, 6, 7, 8, 9, 10]\n",
        "# Make sure an empty list shuffled remains empty:\n",
        "testData2 = []\n",
        "shuffle(testData2)\n",
        "assert testData2 == []"
      ]
    },
    {
      "cell_type": "markdown",
      "metadata": {
        "id": "FUnkKpMMVEnH"
      },
      "source": [
        "## Esercizio 8: merge di due liste ordinate\n",
        "Uno degli algoritmi di ordinamento più efficienti è il Merge Sort, che si compone di due fasi: divisione e merge. è un algoritmo discretamente complesso, quindi non lo tratteremo interamente. Ci concentriamo invece sulla seconda parte, ovvero il merge.\n",
        "\n",
        "Scrivi una funzione `merge_lists(l1, l2)` che prende due liste ordinate `l1, l2` e ritorna una singla lista ordinata contenente gli elementi di queste due liste. Cerca di non usare `sorted()` o `list.sort()` nella soluzione dell'esercizio."
      ]
    },
    {
      "cell_type": "code",
      "execution_count": null,
      "metadata": {},
      "outputs": [],
      "source": [
        "def merge_lists(l1, l2):\n",
        "    l3=[None]*(len(l1)+len(l2))\n",
        "    j=0\n",
        "    k=0\n",
        "    for i in range (len(l3)):\n",
        "        if j == len(l1):\n",
        "            l3[i]=l2[k]\n",
        "            k+=1\n",
        "        elif k == len(l2):\n",
        "            l3[i]=l1[j]\n",
        "            j+=1\n",
        "        elif l1[j]<=l2[k]:\n",
        "            l3[i]=l1[j]\n",
        "            j+=1\n",
        "        else:\n",
        "            l3[i]=l2[k]\n",
        "            k+=1\n",
        "    for i in range (len(l3)):\n",
        "        print(l3[i])\n",
        "        "
      ]
    },
    {
      "cell_type": "code",
      "execution_count": null,
      "metadata": {
        "id": "ErXNNSABVG2j"
      },
      "outputs": [],
      "source": [
        "assert merge_lists([1, 3, 6], [5, 7, 8, 9]) == [1, 3, 5, 6, 7, 8, 9]\n",
        "assert merge_lists([1, 2, 3], [4, 5]) == [1, 2, 3, 4, 5]\n",
        "assert merge_lists([4, 5], [1, 2, 3]) == [1, 2, 3, 4, 5]\n",
        "assert merge_lists([2, 2, 2], [2, 2, 2]) == [2, 2, 2, 2, 2, 2]\n",
        "assert merge_lists([1, 2, 3], []) == [1, 2, 3]\n",
        "assert merge_lists([], [1, 2, 3]) == [1, 2, 3]"
      ]
    },
    {
      "cell_type": "markdown",
      "metadata": {
        "id": "6uQ3EP7n7Z1S"
      },
      "source": [
        "## Esercizio 9: file CSV\n",
        "Un file CSV (Comma Separated Values) è un file di testo in cui ogni riga è un record (simile a una tabella di un DB) e usa la virgola (o altro carattere speciale) per delimitare i valori dei campi all'interno del record. Spesso inoltre presenta una priga riga (header) contenente il nome di ogni colonna. Questo tipo di file è molto usato, specie per contenere dataset (insiemi di dati).\n",
        "\n",
        "Le due celle di codice che seguono scaricano un famoso file CSV (un dataset contenente dati dei passeggeri del Titanic) e mostrano le prime righe di tale file."
      ]
    },
    {
      "cell_type": "code",
      "execution_count": null,
      "metadata": {
        "colab": {
          "base_uri": "https://localhost:8080/"
        },
        "id": "qzKFXYi29TY4",
        "outputId": "19d0f56a-803f-407a-b30d-412c8c43d474"
      },
      "outputs": [],
      "source": [
        "!wget https://raw.githubusercontent.com/datasciencedojo/datasets/master/titanic.csv"
      ]
    },
    {
      "cell_type": "code",
      "execution_count": null,
      "metadata": {
        "colab": {
          "base_uri": "https://localhost:8080/"
        },
        "id": "IvugYqvT90St",
        "outputId": "ac4ea850-aa61-4c3a-b1a1-08f050db32ed"
      },
      "outputs": [],
      "source": [
        "!head titanic.csv"
      ]
    },
    {
      "cell_type": "markdown",
      "metadata": {
        "id": "krWpDLjADLCz"
      },
      "source": [
        "Ad esempio, la prima colonna è l'ID del passeggero, la seconda indica se è sopravvissuto o meno (notare 0/1 anzichè True/False) e la terza la classe del passeggero. Notare che in generale un record potrebbe avere dei campi mancanti (ad esempio nel primo record il campo \"cabin\" è mancante, si nota dalle doppie virgole \",,\"). \n",
        "\n",
        "L'obiettivo è definire una funzione `load_data(file)` che legge il file e ritorna una struttura dati contenente tutti i dati di tutti i passeggeri. I campi mancanti devono avere valore `None`. La scelta della struttura sta a te, ad esempio si potrebbe usare un `dict` che ha come chiavi i nomi delle colonne, oppure una classe definita ad hoc. Idealmente, la struttura dati dovrebbe permettere di accedere a un particolare record in maniera rapida (es. tramite slicing `print(data[50])` o un metodo custom `print(data.get(50))` o come vi pare dovrei riuscire ad ottenere qualunque record in maniera semplice, in questo caso il 50esimo). Sarebbe ottimale avere la possibilità di effettuare slicing \"column-wise\", ovvero richiedere una singola colonna; ad esempio, `data['Name']` o `data.col['Name']` dovrebbe ritornare un iterabile contenente il nome di tutti i passeggeri.\n",
        "\n",
        "Fatto questo, computare qualche semplice statistica del dataset usando la vostra struttura dati. Qualche suggerimento: percentuale di uomini/donne a bordo, nome più (o meno) diffuso, costo medio del biglietto, distribuzione delle età (cioè: $x$ persone con 22 anni, $y$ persone con 23 anni, $z$ con 24 anni, ...)."
      ]
    },
    {
      "cell_type": "code",
      "execution_count": null,
      "metadata": {
        "id": "Vi1dD5jKDK1D"
      },
      "outputs": [],
      "source": [
        "import csv\n",
        "def load_data(file):\n",
        "  with open(file, 'r') as csvfile:  \n",
        "    lettore = csv.reader(csvfile,delimiter=',')\n",
        "    for row in lettore:\n",
        "      print (row)\n"
      ]
    },
    {
      "cell_type": "code",
      "execution_count": 15,
      "metadata": {},
      "outputs": [
        {
          "name": "stdout",
          "output_type": "stream",
          "text": [
            "[('Toscana', 'Monumento partigiani', '44.2088946', '9.96838009999999'), ('Toscana', 'Alberto Meschi', '44.0790183', '10.1008689'), ('Toscana', 'Cippo della scuola di Bergiola Foscalina', '44.0659510999999', '10.1219625'), ('Toscana', 'La donna nella Resistenza', '44.0768952999999', '10.0966693'), ('Toscana', 'Lapide a Fabbiani', '44.0665351', '10.1247197999999'), ('Toscana', 'Monumento a Giudice', '44.065955', '10.1221181'), ('Toscana', \"Monumento dell'eccidio di Bergiola\", '44.0670246', '10.1246554999999'), ('Toscana', 'Scultura Dunchi', '44.0550604', '10.0628603'), ('Toscana', 'Monumento di Partigiani', '44.29578', '10.2092274'), ('Toscana', 'Monumento di Partigiani', '44.2929232999999', '10.2052835'), ('Toscana', 'Monumento a Giuseppe Garibaldi', '44.0342848', '10.1387360999999'), ('Toscana', 'Sacrario di Antona', '44.0579733', '10.1820698'), ('Toscana', 'Dante Catelluci', '44.357177', '9.7301799'), ('Toscana', 'Laundry (?)', '44.3499436999999', '9.7387216'), ('Toscana', 'Monumento a Dante', '44.0615908999999', '10.5922888'), ('Toscana', 'Monumento ai Caduti', '44.0100696', '10.5902515'), ('Toscana', 'Acquedotto Nottolini', '43.8210400999999', '10.5149758'), ('Toscana', 'alpini', '43.7680379', '10.5774674'), ('Toscana', 'Immaginetta o Edicola con vista panoramica', '43.7844462999999', '10.577056'), ('Toscana', 'Monumento ai Caduti', '43.8948839', '10.5563006'), ('Toscana', 'Monumento ai Caduti', '44.0622709', '10.438881'), ('Toscana', 'Passo di Dante', '43.7704895999999', '10.4508916'), ('Toscana', 'Volto Santo', '43.8407144', '10.5060044'), ('Toscana', 'Monumeto ai Caduti', '43.8984013', '10.3177442999999'), ('Toscana', 'Monumento ai caduti', '44.0799729', '10.3920496999999'), ('Toscana', 'Monumento ai minatori', '44.0797729', '10.3922086999999'), ('Toscana', 'Colonna della Libertà', '43.9576445', '10.2323995'), ('Toscana', 'Monumento a Leopoldo II', '43.9574945', '10.2322085'), ('Toscana', 'Linea Gotica', '44.0207371999999', '10.2019395999999'), ('Toscana', 'A Lorenzo Viani', '43.8644777', '10.2426052'), ('Toscana', 'Ciro \"\"Chittò\"\" Bertini', '43.8706923', '10.2662707'), ('Toscana', 'Monumento ai Caduti', '43.8659372999999', '10.2465528999999'), ('Toscana', 'Giardino della Memoria', '43.8248297', '10.8388025'), ('Toscana', 'Ponte di Dante', '43.8925288', '10.7966286'), ('Toscana', 'Cippo ai caduti di Orsigna II Guerra Mondiale', '44.076894', '10.8871999'), ('Toscana', 'Fantana Campari', '44.0023765999999', '10.8343346'), ('Toscana', 'Garibaldi', '43.9308459', '10.9166997'), ('Toscana', 'Filippo Cecchi', '43.8423999999999', '10.7480965'), ('Toscana', 'Giovanni Magrini', '43.8392293', '10.7484533'), ('Toscana', 'Porta Nova', '43.8961072', '10.7030741'), ('Toscana', 'Monumento ai Caduti', '43.8389285', '10.7192493'), ('Toscana', 'Ricordo del Grande Giubileo del 2000', '43.8392601999999', '10.718878'), ('Toscana', 'Fonte della Fata Morgana', '43.7317779999999', '11.2786997'), ('Toscana', 'Spedale del Bigallo', '43.7384337', '11.3497942'), ('Toscana', '34th Infantry Division \"\"RED BULL\"\"', '44.0548519', '11.1850023'), ('Toscana', 'Monumento ai caduti', '44.0001414999999', '11.238159'), ('Toscana', 'Cippo Aglietti', '43.9038224999999', '11.3261787'), ('Toscana', 'Fattoria di Travalle', '43.8812748', '11.1563943'), ('Toscana', 'Monumento ai caduti', '43.8653430999999', '11.1675374'), ('Toscana', 'Statua di Giovanni Boccaccio', '43.5477896', '11.0410343'), ('Toscana', 'Monumento ai caduti nel bombardamento del 26 Dic', '43.7151698999999', '10.9470908'), ('Toscana', 'Florence War Cemetery', '43.7699611999999', '11.3428878'), ('Toscana', 'Benvenuto Cellini', '43.7680592999999', '11.2530839999999'), ('Toscana', 'Casa Guidi', '43.7652452', '11.2479707999999'), ('Toscana', 'cippo partigiano', '43.7871719999999', '11.2039642'), ('Toscana', 'Colonna dell?Abbondanza', '43.771565', '11.2543137'), ('Toscana', 'Colonna della Giustizia', '43.770121', '11.2512705'), ('Toscana', 'Colonna di San Felice', '43.7651542999999', '11.2480978999999'), ('Toscana', 'Colonna di Santa Felicita', '43.7671222', '11.2522949'), ('Toscana', 'Colonna di San Zanobi', '43.7733518', '11.254951'), ('Toscana', 'Croce al Trebbio', '43.7730982', '11.2504183'), ('Toscana', 'Monumento a Garibaldi', '43.7736918', '11.2409634999999'), ('Toscana', 'Monumento a Giuseppe Mazzini', '43.7733850999999', '11.2712938'), ('Toscana', 'Monumento ai Caduti', '43.7748911999999', '11.2504182'), ('Toscana', 'Monumento ai caduti della battaglia de Mentana', '43.7672677999999', '11.2577335'), ('Toscana', \"Monumento all'Indiano\", '43.7903923', '11.1980685'), ('Toscana', 'Statua equestre di Ferdinando I', '43.7763828', '11.2605327'), ('Toscana', 'Antico confine Stato Pontificio - Granducato di', '44.1997816', '11.3312107999999'), ('Toscana', 'Antico confine Stato Pontificio - Granducato di', '44.1997816', '11.3312107999999'), ('Toscana', 'Capitano Nicola D?Amico', '44.2097612', '11.3888014'), ('Toscana', 'Capitano Nicola D?Amico', '44.2097612', '11.3888014'), ('Toscana', 'Monumento ai caduti partigiani', '44.150173', '11.5113768'), ('Toscana', 'Villa Bartolini Baldelli', '43.6944062999999', '11.2291105'), ('Toscana', \"Spedale di Sant'Antonio\", '43.7708522', '11.1070046999999'), ('Toscana', 'Cippo Neri-Bellenghi', '44.0422587999999', '11.6519452'), ('Toscana', \"Ossario (vittime dell'eccidio del 17 luglio 1944\", '44.0358354999999', '11.5463647'), ('Toscana', 'Monumento ai Caduti della Resistenza', '44.1437719999999', '11.5013383'), ('Toscana', 'Monumento commemorativo di San Giusto', '43.8734978', '11.4577772'), ('Toscana', 'Monumento ai Caduti', '43.7216127', '11.4510924'), ('Toscana', \"Memoriale alla vittime dell'attentato di via dei\", '43.6983304999999', '11.1612487999999'), ('Toscana', 'Monumento ai Caduti di tutte le Guerre', '43.657795', '11.1837167999999'), ('Toscana', 'Villa Caserotta', '43.6457727', '11.2191698'), ('Toscana', 'Monumento ai soldati Neozelandesi', '43.7040817999999', '11.1304348'), ('Toscana', 'Villa I Collazzi', '43.7195748999999', '11.1949623'), ('Toscana', 'cippo dei caduti di Radio Cora', '43.8396744', '11.2551304'), ('Toscana', 'I Portici', '43.781615', '11.0968126'), ('Toscana', 'Cippo in memeoria della Strage di Pratale', '43.582948', '11.2275735'), ('Toscana', 'Monumento ai Caduti Italiani e Neozelandesi', '43.561323', '11.1728112'), ('Toscana', 'Monumento ai Caduti nei Lager', '43.5639392', '11.1750375'), ('Toscana', 'Tomba di S.Filippo Benzi', '43.8961098999999', '11.3343019'), ('Toscana', 'Monumento alla Resistenza', '43.8785524999999', '11.4542272999999'), ('Toscana', \"Monumento ai Caduti della Battaglia di Pian d'Al\", '43.6069993999999', '11.4281941'), ('Toscana', \"Monumento ai Caduti partigiani di Pian d'Albero\", '43.634576', '11.3970953'), ('Toscana', '363rd Infantry Regiment 91st Division US Army', '44.0298019999999', '11.3779147'), ('Toscana', 'M. Altuzzo 85th Infantry Division US Army', '44.0415581999999', '11.3804640999999'), ('Toscana', 'Rocca di San Silvestro', '43.0861268', '10.6032975'), ('Toscana', 'Caprili', '42.7586677999999', '10.1769099999999'), ('Toscana', 'Obelisco del poeta Giosuè Carducci', '43.2259948', '10.5596723'), ('Toscana', 'Tomba al Cane', '43.1196044', '10.6082854'), ('Toscana', 'Ai Caduti della Meloria', '43.5048291', '10.3219676'), ('Toscana', 'Alle Vittime del Traghetto Moby Prince', '43.548717', '10.3024533'), ('Toscana', 'Busto di Don Bosco', '43.5485315', '10.3319699'), ('Toscana', 'Busto di Giuseppe Mazzini', '43.5537649999999', '10.3113167'), ('Toscana', 'Busto di Guglielmo Oberdan', '43.5526041999999', '10.3151922'), ('Toscana', 'Christian Bartoli', '43.5111323', '10.3198199'), ('Toscana', 'Dina Bona Attal', '43.5506584', '10.3114033'), ('Toscana', 'Dino Bueno', '43.5506522', '10.3113864'), ('Toscana', 'Enrico Menasci', '43.545656', '10.3083227999999'), ('Toscana', 'Franca Baruch', '43.5511446', '10.3082154999999'), ('Toscana', 'Frida Misul', '43.5489413', '10.3083626'), ('Toscana', 'Giuseppe Bandi', '43.5523485', '10.3275129'), ('Toscana', 'Il Pescatore', '43.5176772', '10.3167994'), ('Toscana', 'Isacco Bayona', '43.5522597', '10.3099786'), ('Toscana', 'Lapide ai Caduti della Resistenza', '43.5473581999999', '10.3132942'), ('Toscana', 'Leopoldo II di Toscana', '43.550871', '10.31588'), ('Toscana', 'Luigi Orlando', '43.5423167', '10.3030264'), ('Toscana', 'Monumento a Francesco Domenico Guerrazzi', '43.5520859', '10.3126032999999'), ('Toscana', 'Monumento a Galliano Masini', '43.5486240999999', '10.331628'), ('Toscana', 'Monumento a Giuseppe Mazzini', '43.5440073999999', '10.3043847999999'), ('Toscana', 'Monumento ai Caduti Civili di Guerra', '43.5509653', '10.3070742'), ('Toscana', 'Monumento a Tazio Nuvolari', '43.4799316', '10.3693623'), ('Toscana', 'Natale Camporeggi', '43.5181637', '10.400472'), ('Toscana', 'Padre Alessandro Baroni', '43.5530157999999', '10.3090221'), ('Toscana', 'Perla Beniacar', '43.5486793999999', '10.3098366'), ('Toscana', 'Pietro Leopoldo', '43.5297186999999', '10.3061323999999'), ('Toscana', 'Raffaello Menasci', '43.5456403', '10.3083317'), ('Toscana', 'Sacrario ai Caduti del Castellaccio', '43.4897994999999', '10.3639551'), ('Toscana', 'San Giovanni Nepomuceno', '43.5528319', '10.3096335'), ('Toscana', 'Vittorio Emanuele', '43.5509811', '10.3057069'), ('Toscana', 'Tomba del Lupi', '42.9588942999999', '10.5066238'), ('Toscana', 'Sepolcro Tonietti', '42.8652463999999', '10.4128946'), ('Toscana', 'Cippo del Saracino', '43.3991418', '10.4862831'), ('Toscana', 'Cippo di Vada', '43.3517739999999', '10.4562531'), ('Toscana', 'Monumento ai Caduti del Mare', '43.3880861', '10.4296709'), ('Toscana', 'Monumento a Oberdan Chiesa', '43.3847341999999', '10.4315552999999'), ('Toscana', 'Croce dei Bersaglieri di San Vincenzo', '43.0943472', '10.6244862999999'), ('Toscana', 'Monumento Caduti della Guerra Mondiale', '43.7459291999999', '10.5925873999999'), ('Toscana', 'Resti del vecchio velodromo', '43.6718065', '10.5792742'), ('Toscana', 'Monumento ai Caduti', '43.6760145', '10.5476712999999'), ('Toscana', 'Agostino Bragazzi', '43.7271349999999', '10.3374209'), ('Toscana', 'Colonna della Chiesa San Lorenzo in Kinzica di P', '43.6187237999999', '10.2894485'), ('Toscana', 'Lupa Capitolina', '43.7233826', '10.3970258'), ('Toscana', 'Monumento a Garibaldi', '43.716481', '10.4022311999999'), ('Toscana', 'Nicola Pisano', '43.7129959999999', '10.400289'), ('Toscana', 'Obelisco a Giuseppe Garibaldi', '43.6788694999999', '10.2745327999999'), ('Toscana', 'Re Vittorio Emanuele II', '43.7107140999999', '10.3990574'), ('Toscana', \"Statua dell'Abbondanza\", '43.7160395', '10.4036691'), ('Toscana', 'Monumento ai caduti nella I G. M.', '43.1856592', '10.8024656'), ('Toscana', 'Monumento alla Vespa', '43.6626556', '10.6290409'), ('Toscana', 'Acquedotto Mediceo', '43.7361994999999', '10.4467082999999'), ('Toscana', 'Monumento ai caduti de La Romagna', '43.8057936', '10.437093'), ('Toscana', 'Andrea Costa', '43.4602044', '10.562536'), ('Toscana', 'Monumento ai Caduti Terricciola', '43.5247444999999', '10.6795507'), ('Toscana', 'Caduti per la Patria', '43.7006824999999', '10.5835149'), ('Toscana', 'Monumento a Guido Ricciardi', '43.3821007', '10.9060553'), ('Toscana', 'Monumento ai Caduti del 15/18', '43.4002132999999', '10.8667204'), ('Toscana', 'Torre Medioevale', '43.5313635999999', '10.5941724'), ('Toscana', 'Garibaldi', '43.5408911', '12.0544404'), ('Toscana', \"Maestà di S.Francesco - Cappella e sorgente d'a\", '43.5628618', '11.9916567999999'), ('Toscana', 'Medieval Bridge - Ponte alla Piera', '43.5866309999999', '11.9897791999999'), ('Toscana', 'A Guido Monaco - 1882', '43.4631618', '11.8781836999999'), ('Toscana', 'Caduti del Mulinaccio, eccidio nazista 6 luglio', '43.4731893', '11.8606963'), ('Toscana', 'Casa del Petrarca', '43.4660506', '11.8835571'), ('Toscana', 'Fortezza Medicea', '43.4651793', '11.8872804999999'), ('Toscana', 'La Chimera', '43.4685279999999', '11.8757205'), ('Toscana', 'Petrarca', '43.4663691', '11.8851967999999'), ('Toscana', 'Porta San Lorentino', '43.4685496999999', '11.8756606999999'), ('Toscana', 'Pozzo di Tofano', '43.4661650999999', '11.8835221'), ('Toscana', \"Statua Ferdinando III d'Austria\", '43.4671534', '11.8812613'), ('Toscana', 'Carro Armato', '43.3441394999999', '11.922217'), ('Toscana', \"Porta Sant'Agostino\", '43.2727999', '11.9836788'), ('Toscana', 'ad Amintore Fanfani', '43.6687573', '12.0416941'), ('Toscana', 'Campaldino 1269', '43.7380355', '11.7527539999999'), ('Toscana', \"Chiesa Santa Teresa D'Avila\", '43.5704262', '11.5347647'), ('Toscana', 'Renacci', '43.5891573999999', '11.5239931'), ('Toscana', 'Monte Vicchi', '43.6031921', '12.1520078'), ('Toscana', 'Monumenti di Partigiani', '43.6365636', '12.1622362'), ('Toscana', 'maesta di pilli', '43.5701603999999', '11.8829180999999'), ('Toscana', 'maesta di valdipozzo', '43.6072573', '11.907768'), ('Toscana', 'Partigiani aretini', '43.6240633999999', '11.9417118'), ('Toscana', 'Cippo commemorativo', '43.8596936', '11.7442316'), ('Toscana', 'Cippo commemorativo', '43.8596936', '11.7442316'), ('Toscana', 'Certosa di Pontignano', '43.3692256', '11.359515'), ('Toscana', 'Piramide di Montaperti', '43.3153109', '11.4394791'), ('Toscana', 'Monumento ai caduti di Nacciarello', '43.0545958', '11.4341019'), ('Toscana', 'eremo S. Leonardo al Lago', '43.3202764999999', '11.2491974'), ('Toscana', 'Martiri di Montemaggio', '43.3739519', '11.2057414'), ('Toscana', 'Villa', '43.3266453999999', '11.2285766'), ('Toscana', 'Fonte delle Fate', '43.4600597', '11.1487567'), ('Toscana', 'Antiporto Camollia', '43.3289392', '11.3216268'), ('Toscana', 'Basilica di San Francesco', '43.3223883', '11.3345894'), ('Toscana', 'Basilica di Santa Maria dei Servi', '43.3151562999999', '11.3381728'), ('Toscana', 'Castellare degli Ugurgieri', '43.3197706999999', '11.3325866'), ('Toscana', 'Chiesa di Santa Lucia', '43.3138487', '11.3288388'), ('Toscana', 'Chiesa di Santo Spirito', '43.3181781999999', '11.3370643999999'), ('Toscana', 'Fonti di Follonica', '43.319192', '11.3371911999999'), ('Toscana', \"Fonti d'Ovile\", '43.3239103', '11.3341549'), ('Toscana', 'Piramide', '43.3241207', '11.2601581999999'), ('Toscana', 'Porta Romana', '43.3134135', '11.3394663999999'), ('Toscana', 'Rocca Salimbeni', '43.3216577', '11.3308602'), ('Toscana', 'Statua di Garibaldi', '43.3235523999999', '11.3266484999999'), ('Toscana', 'Torre del Mangia', '43.3182863999999', '11.3320548'), ('Toscana', 'castello di Farnetella', '43.2434634999999', '11.7023841'), ('Toscana', 'Fonti del Fossatello', '43.2133595999999', '11.7356294'), ('Toscana', 'Cippo ad Enrico Rampinelli', '43.2800926', '11.1870328'), ('Toscana', 'Cippo a Rino Chesi e Vasco Perugini', '43.2811844', '11.1941666'), ('Toscana', 'Monumento ai caduti della Grande Guerra', '43.2092293999999', '11.2528279'), ('Toscana', 'Parco della Tebaide', '43.3041650999999', '11.2074447'), ('Toscana', 'Monumento ai Caduti', '42.7620799999999', '10.8802369999999'), ('Toscana', 'Ettore Socci', '42.9214120999999', '10.7557918'), ('Toscana', 'Giuseppe Mazzini', '42.9216312', '10.7554654'), ('Toscana', 'Monumento ai Caduti', '42.9241172999999', '10.7636508'), ('Toscana', 'Monumento a Canapone', '42.7595856', '11.1137751999999'), ('Toscana', 'Monumento ad Ettore Socci', '42.7614865999999', '11.1130121'), ('Toscana', 'Costa Concordia disaster', '42.3641927999999', '10.9215728999999'), ('Toscana', 'Porta Romana', '42.6635976999999', '11.505515'), ('Toscana', 'Strada Marco Pantani', '42.6743979999999', '11.5445429'), ('Toscana', 'Monumento a Guido Radi detto Boscaglia', '43.1196758', '10.9754653999999'), ('Toscana', 'Torre del Candeliere', '43.0513863999999', '10.8905309999999'), ('Toscana', 'Monumento ai Caduti', '42.3945235999999', '11.2041153'), ('Toscana', 'Colonna Leopoldina', '42.4505371999999', '11.2549629'), ('Toscana', 'Monumento a Garibaldi', '42.8677554', '10.7723749'), ('Toscana', 'Targa commemorativa della strage al Campo ai Biz', '43.1113124', '10.7893901'), ('Toscana', 'Caduti 46a Brigata Aerea', '43.9327508', '11.0313777'), ('Toscana', 'Padre Pio', '43.8124931999999', '11.0553385'), ('Toscana', 'Francesco Datini', '43.8807365999999', '11.0967363999999'), ('Toscana', 'Gaetano Magnolfi', '43.8828268999999', '11.1061118'), ('Toscana', 'Giuseppe Mazzoni', '43.8818764999999', '11.0973925'), ('Toscana', 'Padre Pio', '43.8832136999999', '11.1067481'), ('Toscana', 'Memoriale \"\"Linea Gotica\"\"', '44.0629673999999', '11.1861716'), ('Toscana', 'Monumento ai Caduti', '44.0908664999999', '11.1600639')]\n"
          ]
        }
      ],
      "source": [
        "import csv\n",
        "with open (r\"C:\\Users\\Tommaso\\Downloads\\Mappa-dei-monumenti-in-Italia.csv\", newline=\"\", encoding=\"ISO-8859-1\") as filecsv:\n",
        "  lettore = csv.reader(filecsv, delimiter=\";\")\n",
        "  #header=next(lettore)\n",
        "  #print (header)\n",
        "  dati=[(riga[2],riga[3],riga[9],riga[8]) for riga in lettore if riga[2] == \"Toscana\" and riga[3] != \"\"]\n",
        "  print(dati)\n"
      ]
    }
  ],
  "metadata": {
    "colab": {
      "collapsed_sections": [
        "KizLECz3qLuR",
        "veZRTaASf2rZ",
        "nmN8-W4mpWGh",
        "6uQ3EP7n7Z1S"
      ],
      "provenance": []
    },
    "kernelspec": {
      "display_name": "Python 3.10.5 64-bit",
      "language": "python",
      "name": "python3"
    },
    "language_info": {
      "codemirror_mode": {
        "name": "ipython",
        "version": 3
      },
      "file_extension": ".py",
      "mimetype": "text/x-python",
      "name": "python",
      "nbconvert_exporter": "python",
      "pygments_lexer": "ipython3",
      "version": "3.10.5"
    },
    "latex_envs": {
      "LaTeX_envs_menu_present": true,
      "autoclose": false,
      "autocomplete": true,
      "bibliofile": "biblio.bib",
      "cite_by": "apalike",
      "current_citInitial": 1,
      "eqLabelWithNumbers": true,
      "eqNumInitial": 1,
      "hotkeys": {
        "equation": "Ctrl-E",
        "itemize": "Ctrl-I"
      },
      "labels_anchors": false,
      "latex_user_defs": false,
      "report_style_numbering": false,
      "user_envs_cfg": false
    },
    "vscode": {
      "interpreter": {
        "hash": "ceba285e8b4e6478fe8ad229bc63940a90ad5cf3d143521e7c38823a2e915b21"
      }
    }
  },
  "nbformat": 4,
  "nbformat_minor": 0
}